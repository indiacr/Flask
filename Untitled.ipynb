{
 "cells": [
  {
   "cell_type": "code",
   "execution_count": 6,
   "id": "79920d72",
   "metadata": {},
   "outputs": [
    {
     "ename": "ImportError",
     "evalue": "cannot import name 'HandGestureRecognition' from 'sound_with_Text' (C:\\Pycham_files\\ASL_trans\\v8\\Sign_Text\\Flask\\sound_with_Text.py)",
     "output_type": "error",
     "traceback": [
      "\u001b[1;31m---------------------------------------------------------------------------\u001b[0m",
      "\u001b[1;31mImportError\u001b[0m                               Traceback (most recent call last)",
      "Cell \u001b[1;32mIn[6], line 4\u001b[0m\n\u001b[0;32m      2\u001b[0m \u001b[38;5;28;01mfrom\u001b[39;00m \u001b[38;5;21;01mflask\u001b[39;00m \u001b[38;5;28;01mimport\u001b[39;00m Flask, render_template, Response\n\u001b[0;32m      3\u001b[0m \u001b[38;5;28;01mimport\u001b[39;00m \u001b[38;5;21;01mcv2\u001b[39;00m\n\u001b[1;32m----> 4\u001b[0m \u001b[38;5;28;01mfrom\u001b[39;00m \u001b[38;5;21;01msound_with_Text\u001b[39;00m \u001b[38;5;28;01mimport\u001b[39;00m HandGestureRecognition\n\u001b[0;32m      6\u001b[0m app \u001b[38;5;241m=\u001b[39m Flask(\u001b[38;5;18m__name__\u001b[39m)\n\u001b[0;32m      7\u001b[0m sound_with_Text \u001b[38;5;241m=\u001b[39m HandGestureRecognition()\n",
      "\u001b[1;31mImportError\u001b[0m: cannot import name 'HandGestureRecognition' from 'sound_with_Text' (C:\\Pycham_files\\ASL_trans\\v8\\Sign_Text\\Flask\\sound_with_Text.py)"
     ]
    }
   ],
   "source": [
    "# app.py\n",
    "from flask import Flask, render_template, Response\n",
    "import cv2\n",
    "from sound_with_Text import HandGestureRecognition\n",
    "\n",
    "app = Flask(__name__)\n",
    "sound_with_Text = HandGestureRecognition()\n",
    "\n",
    "cap = cv2.VideoCapture(0)\n",
    "\n",
    "def generate_frames():\n",
    "    while True:\n",
    "        ret, frame = cap.read()\n",
    "        if not ret:\n",
    "            break\n",
    "        gesture = hand_gesture_recognition.process_frame(frame)\n",
    "        if gesture:\n",
    "            cv2.putText(frame, f'Sign: {gesture}', (10, 70), cv2.FONT_HERSHEY_SIMPLEX, 2, (255, 0, 0), 3, cv2.LINE_AA)\n",
    "\n",
    "        ret, buffer = cv2.imencode('.jpg', frame)\n",
    "        frame = buffer.tobytes()\n",
    "        yield (b'--frame\\r\\n'\n",
    "               b'Content-Type: image/jpeg\\r\\n\\r\\n' + frame + b'\\r\\n')\n",
    "\n",
    "@app.route('/')\n",
    "def index():\n",
    "    return render_template('index.html')\n",
    "\n",
    "@app.route('/video_feed')\n",
    "def video_feed():\n",
    "    return Response(generate_frames(), mimetype='multipart/x-mixed-replace; boundary=frame')\n",
    "\n",
    "if __name__ == \"__main__\":\n",
    "    app.run(debug=True)"
   ]
  },
  {
   "cell_type": "code",
   "execution_count": null,
   "id": "e3ed67ba",
   "metadata": {},
   "outputs": [],
   "source": []
  }
 ],
 "metadata": {
  "kernelspec": {
   "display_name": "Python 3 (ipykernel)",
   "language": "python",
   "name": "python3"
  },
  "language_info": {
   "codemirror_mode": {
    "name": "ipython",
    "version": 3
   },
   "file_extension": ".py",
   "mimetype": "text/x-python",
   "name": "python",
   "nbconvert_exporter": "python",
   "pygments_lexer": "ipython3",
   "version": "3.10.9"
  }
 },
 "nbformat": 4,
 "nbformat_minor": 5
}
